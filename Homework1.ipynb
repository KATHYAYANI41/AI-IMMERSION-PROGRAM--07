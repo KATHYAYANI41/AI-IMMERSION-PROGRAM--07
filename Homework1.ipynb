{
  "nbformat": 4,
  "nbformat_minor": 0,
  "metadata": {
    "colab": {
      "provenance": []
    },
    "kernelspec": {
      "name": "python3",
      "display_name": "Python 3"
    },
    "language_info": {
      "name": "python"
    }
  },
  "cells": [
    {
      "cell_type": "code",
      "execution_count": 8,
      "metadata": {
        "colab": {
          "base_uri": "https://localhost:8080/"
        },
        "id": "Rk3fRGiP16O3",
        "outputId": "02072b1c-b655-4c1f-e644-ad65aaf9fb13"
      },
      "outputs": [
        {
          "name": "stdout",
          "output_type": "stream",
          "text": [
            "Enter a number: 6\n"
          ]
        },
        {
          "output_type": "execute_result",
          "data": {
            "text/plain": [
              "False"
            ]
          },
          "metadata": {},
          "execution_count": 8
        }
      ],
      "source": [
        "#isPrime\n",
        "def isprime(n):\n",
        "  if n<2:\n",
        "    return False\n",
        "  for i in range(2,int(n**0.5)+1):\n",
        "    if(n%i==0):\n",
        "      return False\n",
        "    else:\n",
        "      return True\n",
        "n = int(input(\"Enter a number: \"))\n",
        "isprime(n)"
      ]
    },
    {
      "cell_type": "code",
      "source": [
        "#Fibanacci\n",
        "def fib(n):\n",
        "  a,b=0,1\n",
        "  series=[]\n",
        "  for _ in range(n):\n",
        "    series.append(a)\n",
        "    a,b=b,a+b\n",
        "  return series\n",
        "n = int(input(\"Enter a number: \"))\n",
        "print(fib(n))"
      ],
      "metadata": {
        "id": "sSWrbeaV2S9j"
      },
      "execution_count": null,
      "outputs": []
    },
    {
      "cell_type": "code",
      "source": [
        "#GCD & LCM\n",
        "def gcd(a,b):\n",
        "  while b:\n",
        "    a,b=b,a%b\n",
        "  return a\n",
        "def lcm(a,b):\n",
        "  if a==0 or b==0:\n",
        "    return 0\n",
        "  return abs(a*b)//gcd(a,b)\n",
        "a=int(input(\"Enter a number: \"))\n",
        "b=int(input(\"Enter a number: \"))\n",
        "print(gcd(a,b))\n",
        "print(lcm(a,b))\n",
        "\n"
      ],
      "metadata": {
        "id": "4iputKFPLODV"
      },
      "execution_count": null,
      "outputs": []
    },
    {
      "cell_type": "code",
      "source": [
        "#CALCULATOR\n",
        "def add(a,b): return a+b\n",
        "def sub(a,b): return a-b\n",
        "def mul(a,b): return a*b\n",
        "def div(a,b): return a/b if b else None\n",
        "a=float(input(\"Enter first number: \"))\n",
        "op=input(\"Enter operator (+,-,*,/): \")\n",
        "b=float(input(\"Enter second number: \"))\n",
        "if op=='+': print(add(a,b))\n",
        "elif op=='-': print(sub(a,b))\n",
        "elif op=='*': print(mul(a,b))\n",
        "elif op=='/': print(div(a,b))"
      ],
      "metadata": {
        "id": "TxKkWBZ_NJ1U"
      },
      "execution_count": null,
      "outputs": []
    },
    {
      "cell_type": "code",
      "source": [
        "#DICTONARY\n",
        "d={'a':1,'b':2,'c':3,'d':4,'e':5}\n",
        "print(d)"
      ],
      "metadata": {
        "id": "mJX916Z9Nfeq"
      },
      "execution_count": null,
      "outputs": []
    },
    {
      "cell_type": "code",
      "source": [
        "#BASIC OPERATIONS USING NUMPY\n",
        "import numpy as np\n",
        "a=np.array([[1,2],[3,4]])\n",
        "b=np.array([[5,6],[7,8]])\n",
        "print(a+b)\n",
        "print(a-b)\n",
        "print(a*b)\n",
        "print(a.dot(b))"
      ],
      "metadata": {
        "id": "iUCpzlCeNmB5"
      },
      "execution_count": null,
      "outputs": []
    },
    {
      "cell_type": "code",
      "source": [
        "#pandas\n",
        "import pandas as pd\n",
        "df=pd.read_csv(\"test.csv\")\n",
        "print(df.head())\n"
      ],
      "metadata": {
        "id": "Ob2FaCL2NtI1"
      },
      "execution_count": null,
      "outputs": []
    },
    {
      "cell_type": "code",
      "source": [
        "#most_common_word\n",
        "def most_common_word(text):\n",
        "    words=text.split()\n",
        "    return max(set(words), key=words.count)\n",
        "text=input(\"Enter text: \")\n",
        "print(most_common_word(text))"
      ],
      "metadata": {
        "id": "BJjwSIHDOAO6"
      },
      "execution_count": null,
      "outputs": []
    },
    {
      "cell_type": "code",
      "source": [
        "#random pass\n",
        "import random, string\n",
        "def gen_password(length=8):\n",
        "    chars=string.ascii_letters+string.digits+string.punctuation\n",
        "    return ''.join(random.choice(chars) for _ in range(length))\n",
        "print(gen_password())\n"
      ],
      "metadata": {
        "id": "gdH6hGf1OEiM"
      },
      "execution_count": null,
      "outputs": []
    }
  ]
}